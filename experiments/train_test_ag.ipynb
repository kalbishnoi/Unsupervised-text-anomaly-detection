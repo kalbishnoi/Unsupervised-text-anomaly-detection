{
 "cells": [
  {
   "cell_type": "code",
   "execution_count": 35,
   "metadata": {},
   "outputs": [],
   "source": [
    "from transformers import BertTokenizer\n",
    "\n",
    "tokenizer = BertTokenizer.from_pretrained(\"bert-base-uncased\", do_basic_tokenization = True)"
   ]
  },
  {
   "cell_type": "code",
   "execution_count": 36,
   "metadata": {},
   "outputs": [],
   "source": [
    "import numpy as np\n",
    "from torch.utils.data import Dataset, DataLoader\n",
    "\n",
    "def data_collate_fn(dataset_samples_list):\n",
    "    arr = np.array(dataset_samples_list)\n",
    "    inputs = tokenizer(text=arr.tolist(), max_length=100, padding='max_length', truncation=True, return_tensors='pt')\n",
    "    return inputs\n",
    "class MyDataset(Dataset):\n",
    "    def __init__(self, src, tokenizer):\n",
    "        self.src = src\n",
    "        self.tokenizer = tokenizer\n",
    "\n",
    "    def __len__(self):\n",
    "        return len(self.src)\n",
    "\n",
    "    def __getitem__(self, idx):\n",
    "        src = self.src[idx]\n",
    "        return src"
   ]
  },
  {
   "cell_type": "code",
   "execution_count": 37,
   "metadata": {},
   "outputs": [],
   "source": [
    "import math\n",
    "\n",
    "import torch\n",
    "import torch.nn as nn\n",
    "import torch.nn.functional as F\n",
    "from torch.nn import TransformerEncoder, TransformerEncoderLayer\n",
    "\n",
    "device = \"cuda:1\" if torch.cuda.is_available() else \"cpu\"\n",
    "\n",
    "\n",
    "class PositionalEncoding(nn.Module):\n",
    "\n",
    "    def __init__(self, d_model, dropout=0.1, max_len=5000):\n",
    "        super(PositionalEncoding, self).__init__()\n",
    "        self.dropout = nn.Dropout(p=dropout)\n",
    "\n",
    "        pe = torch.zeros(max_len, d_model)\n",
    "        position = torch.arange(0, max_len, dtype=torch.float).unsqueeze(1)\n",
    "        div_term = torch.exp(torch.arange(0, d_model, 2).float() * (-math.log(10000.0) / d_model))\n",
    "        pe[:, 0::2] = torch.sin(position * div_term)\n",
    "        pe[:, 1::2] = torch.cos(position * div_term)\n",
    "        pe = pe.unsqueeze(0).transpose(0, 1)\n",
    "        self.register_buffer('pe', pe)\n",
    "\n",
    "    def forward(self, x):\n",
    "        x = x + self.pe[:x.size(0), :]\n",
    "        return self.dropout(x)\n",
    "\n",
    "\n",
    "class TransformerModel(nn.Module):\n",
    "\n",
    "    def __init__(self, ntoken, ninp, nhead, nhid, nlayers, dropout=0.5):\n",
    "        super(TransformerModel, self).__init__()\n",
    "        self.model_type = 'Transformer'\n",
    "        self.pos_encoder = PositionalEncoding(ninp, dropout)\n",
    "        encoder_layers = TransformerEncoderLayer(ninp, nhead, nhid, dropout, batch_first=True)\n",
    "        self.transformer_encoder = TransformerEncoder(encoder_layers, nlayers)\n",
    "        self.encoder = nn.Embedding(ntoken, ninp)\n",
    "        self.ninp = ninp\n",
    "        self.decoder = nn.Linear(ninp, ntoken)\n",
    "\n",
    "        self.init_weights()\n",
    "\n",
    "    def generate_square_subsequent_mask(self, sz):\n",
    "        mask = (torch.triu(torch.ones(sz, sz)) == 1).transpose(0, 1)\n",
    "        mask = mask.float().masked_fill(mask == 0, float('-inf')).masked_fill(mask == 1, float(0.0))\n",
    "        return mask\n",
    "\n",
    "    def init_weights(self):\n",
    "        initrange = 0.1\n",
    "        self.encoder.weight.data.uniform_(-initrange, initrange)\n",
    "        self.decoder.bias.data.zero_()\n",
    "        self.decoder.weight.data.uniform_(-initrange, initrange)\n",
    "\n",
    "    def forward(self, src, src_mask):\n",
    "        src = self.encoder(src) * math.sqrt(self.ninp)\n",
    "        src = self.pos_encoder(src)\n",
    "        output = self.transformer_encoder(src, src_mask)\n",
    "        output = self.decoder(output)\n",
    "        return output"
   ]
  },
  {
   "cell_type": "code",
   "execution_count": 38,
   "metadata": {},
   "outputs": [],
   "source": [
    "from tqdm import tqdm\n",
    "import matplotlib.pyplot as plt\n",
    "def train(model, dataloader):\n",
    "    model.train()\n",
    "    epochs = 30\n",
    "    total_loss = 0\n",
    "    criterion = nn.CrossEntropyLoss()\n",
    "    optim = torch.optim.AdamW(model.parameters(), lr=0.0001)\n",
    "\n",
    "    loss_values = []\n",
    "\n",
    "    for epoch in range(epochs):\n",
    "        total_loss=0\n",
    "        for batch in tqdm(dataloader):\n",
    "            optim.zero_grad()\n",
    "            input = batch['input_ids'].clone()\n",
    "            src_mask = model.generate_square_subsequent_mask(batch['input_ids'].size(1))\n",
    "            rand_value = torch.rand(batch.input_ids.shape)\n",
    "            rand_mask = (rand_value < 0.15) * (input != 101) * (input != 102) * (input != 0)\n",
    "            mask_idx=(rand_mask.flatten() == True).nonzero().view(-1)\n",
    "            input = input.flatten()\n",
    "            input[mask_idx] = 103\n",
    "            input = input.view(batch['input_ids'].size())\n",
    "\n",
    "            out = model(input.to(device), src_mask.to(device))\n",
    "            loss = criterion(out.view(-1, ntokens), batch['input_ids'].view(-1).to(device))\n",
    "            total_loss += loss\n",
    "            loss.backward()\n",
    "            optim.step()\n",
    "\n",
    "        # Calculate average loss for the epoch\n",
    "        average_loss = total_loss/(len(dataloader)*epoch+1)\n",
    "        loss_values.append(average_loss)\n",
    "\n",
    "        print(\"Epoch: {} -> loss: {}\".format(epoch+1, average_loss))\n",
    "            \n",
    "    # Assuming loss_values is a list or numpy array of loss values\n",
    "    loss_values_cpu = [loss.cpu().detach().numpy() for loss in loss_values]\n",
    "\n",
    "    # Plot loss vs epoch curve\n",
    "    plt.plot(np.array(range(1, epochs+1)), np.array(loss_values_cpu))\n",
    "    plt.xlabel('Epoch')\n",
    "    plt.ylabel('Loss')\n",
    "    plt.title('Loss vs Epoch')\n",
    "    plt.legend()\n",
    "    plt.show()\n",
    "\n",
    "def predict(model, input):\n",
    "    model.eval()\n",
    "    src_mask = model.generate_square_subsequent_mask(input.size(1))\n",
    "    out = model(input.to(device), src_mask.to(device))\n",
    "    out = out.topk(1).indices.view(-1)\n",
    "    return out"
   ]
  },
  {
   "cell_type": "code",
   "execution_count": 39,
   "metadata": {},
   "outputs": [],
   "source": [
    "# open file\n",
    "with open(r\"/home2/hardik_2001cs27/utad/datasets/ag_od/train/world.txt\",'r') as f:\n",
    "   filee = f.read()\n",
    "def split_lines(text, n):\n",
    "    words = text.split()\n",
    "    lines = [' '.join(words[i:i+n]) for i in range(0, len(words), n)]\n",
    "    return lines\n",
    "\n",
    "# Split the paragraph into lines after every 100 words\n",
    "file = split_lines(filee, 100)"
   ]
  },
  {
   "cell_type": "code",
   "execution_count": 40,
   "metadata": {},
   "outputs": [],
   "source": [
    "from clean_text import clean_text\n",
    "# split and clean data\n",
    "text_lst = []\n",
    "for line in file:\n",
    "    if len(line.split(\" \")) >=20:\n",
    "        line = clean_text(line)\n",
    "        text_lst.append(line)"
   ]
  },
  {
   "cell_type": "code",
   "execution_count": 41,
   "metadata": {},
   "outputs": [],
   "source": [
    "dataset = MyDataset(text_lst, tokenizer)\n",
    "dataloader = DataLoader(dataset, batch_size=8, collate_fn=data_collate_fn)"
   ]
  },
  {
   "cell_type": "code",
   "execution_count": 42,
   "metadata": {},
   "outputs": [],
   "source": [
    "ntokens = tokenizer.vocab_size # the size of vocabulary\n",
    "emsize = 200 # embedding dimension\n",
    "nhid = 200 # the dimension of the feedforward network model in nn.TransformerEncoder\n",
    "nlayers = 2 # the number of nn.TransformerEncoderLayer in nn.TransformerEncoder\n",
    "nhead = 2 # the number of heads in the multiheadattention models\n",
    "dropout = 0.2 # the dropout value\n",
    "model = TransformerModel(ntokens, emsize, nhead, nhid, nlayers, dropout).to(device)"
   ]
  },
  {
   "cell_type": "code",
   "execution_count": 43,
   "metadata": {},
   "outputs": [],
   "source": [
    "for name, param in list(model.named_parameters())[:-39]: \n",
    "    param.requires_grad = False"
   ]
  },
  {
   "cell_type": "code",
   "execution_count": 44,
   "metadata": {},
   "outputs": [
    {
     "name": "stderr",
     "output_type": "stream",
     "text": [
      "  1%|          | 10/951 [00:00<01:05, 14.47it/s]"
     ]
    },
    {
     "name": "stderr",
     "output_type": "stream",
     "text": [
      "100%|██████████| 951/951 [01:02<00:00, 15.24it/s]\n"
     ]
    },
    {
     "name": "stdout",
     "output_type": "stream",
     "text": [
      "Epoch: 1 -> loss: 5767.7021484375\n"
     ]
    },
    {
     "name": "stderr",
     "output_type": "stream",
     "text": [
      "100%|██████████| 951/951 [01:03<00:00, 15.09it/s]\n"
     ]
    },
    {
     "name": "stdout",
     "output_type": "stream",
     "text": [
      "Epoch: 2 -> loss: 2.7423722743988037\n"
     ]
    },
    {
     "name": "stderr",
     "output_type": "stream",
     "text": [
      "100%|██████████| 951/951 [01:02<00:00, 15.18it/s]\n"
     ]
    },
    {
     "name": "stdout",
     "output_type": "stream",
     "text": [
      "Epoch: 3 -> loss: 0.9567605257034302\n"
     ]
    },
    {
     "name": "stderr",
     "output_type": "stream",
     "text": [
      "100%|██████████| 951/951 [01:02<00:00, 15.26it/s]\n"
     ]
    },
    {
     "name": "stdout",
     "output_type": "stream",
     "text": [
      "Epoch: 4 -> loss: 0.5315103530883789\n"
     ]
    },
    {
     "name": "stderr",
     "output_type": "stream",
     "text": [
      "100%|██████████| 951/951 [01:01<00:00, 15.45it/s]\n"
     ]
    },
    {
     "name": "stdout",
     "output_type": "stream",
     "text": [
      "Epoch: 5 -> loss: 0.35913559794425964\n"
     ]
    },
    {
     "name": "stderr",
     "output_type": "stream",
     "text": [
      "100%|██████████| 951/951 [01:02<00:00, 15.28it/s]\n"
     ]
    },
    {
     "name": "stdout",
     "output_type": "stream",
     "text": [
      "Epoch: 6 -> loss: 0.27155303955078125\n"
     ]
    },
    {
     "name": "stderr",
     "output_type": "stream",
     "text": [
      "100%|██████████| 951/951 [01:02<00:00, 15.18it/s]\n"
     ]
    },
    {
     "name": "stdout",
     "output_type": "stream",
     "text": [
      "Epoch: 7 -> loss: 0.21769320964813232\n"
     ]
    },
    {
     "name": "stderr",
     "output_type": "stream",
     "text": [
      "100%|██████████| 951/951 [01:03<00:00, 15.09it/s]\n"
     ]
    },
    {
     "name": "stdout",
     "output_type": "stream",
     "text": [
      "Epoch: 8 -> loss: 0.18123744428157806\n"
     ]
    },
    {
     "name": "stderr",
     "output_type": "stream",
     "text": [
      "100%|██████████| 951/951 [01:02<00:00, 15.27it/s]\n"
     ]
    },
    {
     "name": "stdout",
     "output_type": "stream",
     "text": [
      "Epoch: 9 -> loss: 0.15643125772476196\n"
     ]
    },
    {
     "name": "stderr",
     "output_type": "stream",
     "text": [
      "100%|██████████| 951/951 [01:01<00:00, 15.48it/s]\n"
     ]
    },
    {
     "name": "stdout",
     "output_type": "stream",
     "text": [
      "Epoch: 10 -> loss: 0.1364082396030426\n"
     ]
    },
    {
     "name": "stderr",
     "output_type": "stream",
     "text": [
      "100%|██████████| 951/951 [01:02<00:00, 15.29it/s]\n"
     ]
    },
    {
     "name": "stdout",
     "output_type": "stream",
     "text": [
      "Epoch: 11 -> loss: 0.1213270053267479\n"
     ]
    },
    {
     "name": "stderr",
     "output_type": "stream",
     "text": [
      "100%|██████████| 951/951 [01:01<00:00, 15.41it/s]\n"
     ]
    },
    {
     "name": "stdout",
     "output_type": "stream",
     "text": [
      "Epoch: 12 -> loss: 0.11010633409023285\n"
     ]
    },
    {
     "name": "stderr",
     "output_type": "stream",
     "text": [
      "100%|██████████| 951/951 [01:02<00:00, 15.31it/s]\n"
     ]
    },
    {
     "name": "stdout",
     "output_type": "stream",
     "text": [
      "Epoch: 13 -> loss: 0.09969684481620789\n"
     ]
    },
    {
     "name": "stderr",
     "output_type": "stream",
     "text": [
      "100%|██████████| 951/951 [01:02<00:00, 15.28it/s]\n"
     ]
    },
    {
     "name": "stdout",
     "output_type": "stream",
     "text": [
      "Epoch: 14 -> loss: 0.09100615233182907\n"
     ]
    },
    {
     "name": "stderr",
     "output_type": "stream",
     "text": [
      "100%|██████████| 951/951 [01:02<00:00, 15.13it/s]\n"
     ]
    },
    {
     "name": "stdout",
     "output_type": "stream",
     "text": [
      "Epoch: 15 -> loss: 0.08420291543006897\n"
     ]
    },
    {
     "name": "stderr",
     "output_type": "stream",
     "text": [
      "100%|██████████| 951/951 [01:01<00:00, 15.35it/s]\n"
     ]
    },
    {
     "name": "stdout",
     "output_type": "stream",
     "text": [
      "Epoch: 16 -> loss: 0.07819875329732895\n"
     ]
    },
    {
     "name": "stderr",
     "output_type": "stream",
     "text": [
      "100%|██████████| 951/951 [01:02<00:00, 15.14it/s]\n"
     ]
    },
    {
     "name": "stdout",
     "output_type": "stream",
     "text": [
      "Epoch: 17 -> loss: 0.07290064543485641\n"
     ]
    },
    {
     "name": "stderr",
     "output_type": "stream",
     "text": [
      "100%|██████████| 951/951 [01:01<00:00, 15.38it/s]\n"
     ]
    },
    {
     "name": "stdout",
     "output_type": "stream",
     "text": [
      "Epoch: 18 -> loss: 0.06829534471035004\n"
     ]
    },
    {
     "name": "stderr",
     "output_type": "stream",
     "text": [
      "100%|██████████| 951/951 [01:02<00:00, 15.30it/s]\n"
     ]
    },
    {
     "name": "stdout",
     "output_type": "stream",
     "text": [
      "Epoch: 19 -> loss: 0.06410008668899536\n"
     ]
    },
    {
     "name": "stderr",
     "output_type": "stream",
     "text": [
      "100%|██████████| 951/951 [01:02<00:00, 15.17it/s]\n"
     ]
    },
    {
     "name": "stdout",
     "output_type": "stream",
     "text": [
      "Epoch: 20 -> loss: 0.060704514384269714\n"
     ]
    },
    {
     "name": "stderr",
     "output_type": "stream",
     "text": [
      "100%|██████████| 951/951 [01:02<00:00, 15.15it/s]\n"
     ]
    },
    {
     "name": "stdout",
     "output_type": "stream",
     "text": [
      "Epoch: 21 -> loss: 0.05708739906549454\n"
     ]
    },
    {
     "name": "stderr",
     "output_type": "stream",
     "text": [
      "100%|██████████| 951/951 [01:03<00:00, 15.09it/s]\n"
     ]
    },
    {
     "name": "stdout",
     "output_type": "stream",
     "text": [
      "Epoch: 22 -> loss: 0.05412580072879791\n"
     ]
    },
    {
     "name": "stderr",
     "output_type": "stream",
     "text": [
      "100%|██████████| 951/951 [01:02<00:00, 15.12it/s]\n"
     ]
    },
    {
     "name": "stdout",
     "output_type": "stream",
     "text": [
      "Epoch: 23 -> loss: 0.05177101865410805\n"
     ]
    },
    {
     "name": "stderr",
     "output_type": "stream",
     "text": [
      "100%|██████████| 951/951 [01:02<00:00, 15.29it/s]\n"
     ]
    },
    {
     "name": "stdout",
     "output_type": "stream",
     "text": [
      "Epoch: 24 -> loss: 0.04953363910317421\n"
     ]
    },
    {
     "name": "stderr",
     "output_type": "stream",
     "text": [
      "100%|██████████| 951/951 [01:04<00:00, 14.73it/s]\n"
     ]
    },
    {
     "name": "stdout",
     "output_type": "stream",
     "text": [
      "Epoch: 25 -> loss: 0.04719466716051102\n"
     ]
    },
    {
     "name": "stderr",
     "output_type": "stream",
     "text": [
      "100%|██████████| 951/951 [01:04<00:00, 14.76it/s]\n"
     ]
    },
    {
     "name": "stdout",
     "output_type": "stream",
     "text": [
      "Epoch: 26 -> loss: 0.04513973742723465\n"
     ]
    },
    {
     "name": "stderr",
     "output_type": "stream",
     "text": [
      "100%|██████████| 951/951 [01:03<00:00, 14.87it/s]\n"
     ]
    },
    {
     "name": "stdout",
     "output_type": "stream",
     "text": [
      "Epoch: 27 -> loss: 0.04311306029558182\n"
     ]
    },
    {
     "name": "stderr",
     "output_type": "stream",
     "text": [
      "100%|██████████| 951/951 [01:04<00:00, 14.72it/s]\n"
     ]
    },
    {
     "name": "stdout",
     "output_type": "stream",
     "text": [
      "Epoch: 28 -> loss: 0.04142202064394951\n"
     ]
    },
    {
     "name": "stderr",
     "output_type": "stream",
     "text": [
      "100%|██████████| 951/951 [01:03<00:00, 14.88it/s]\n"
     ]
    },
    {
     "name": "stdout",
     "output_type": "stream",
     "text": [
      "Epoch: 29 -> loss: 0.03981729596853256\n"
     ]
    },
    {
     "name": "stderr",
     "output_type": "stream",
     "text": [
      "100%|██████████| 951/951 [01:03<00:00, 14.90it/s]\n",
      "No artists with labels found to put in legend.  Note that artists whose label start with an underscore are ignored when legend() is called with no argument.\n"
     ]
    },
    {
     "name": "stdout",
     "output_type": "stream",
     "text": [
      "Epoch: 30 -> loss: 0.03835706412792206\n"
     ]
    },
    {
     "data": {
      "image/png": "[encoded data removed]",
      "text/plain": [
       "<Figure size 640x480 with 1 Axes>"
      ]
     },
     "metadata": {},
     "output_type": "display_data"
    }
   ],
   "source": [
    "# Training Model\n",
    "train(model, dataloader)"
   ]
  },
  {
   "cell_type": "code",
   "execution_count": 45,
   "metadata": {},
   "outputs": [],
   "source": [
    "from openpyxl import load_workbook\n",
    "\n",
    "#Specify the Workbook\n",
    "excel_file = r\"/home2/hardik_2001cs27/utad/experiments/results_world.xlsx\"\n",
    "wb_append = load_workbook(excel_file)\n",
    "sheet = wb_append.active\n",
    "#Writing to C1 Cell\n",
    "sheet[\"A1\"] = \"Input Sentence\"\n",
    "sheet[\"B1\"] = \"Masking Pattern\"\n",
    "sheet[\"C1\"] = \"Masked Sentence\"\n",
    "sheet[\"D1\"] = \"Reconstructed Sentence\"\n",
    "#Save the operation\n",
    "wb_append.save(excel_file)\n",
    "\n",
    "# open test file\n",
    "with open(r\"/home2/hardik_2001cs27/utad/datasets/ag_od/test/world.txt\",'r') as f:\n",
    "   file22 = f.read()\n",
    "def split_lines(text, n):\n",
    "    words = text.split()\n",
    "    lines = [' '.join(words[i:i+n]) for i in range(0, len(words), n)]\n",
    "    return lines\n",
    "\n",
    "# Split the paragraph into lines after every 10 words\n",
    "file2 = split_lines(file22, 100)"
   ]
  },
  {
   "cell_type": "code",
   "execution_count": null,
   "metadata": {},
   "outputs": [],
   "source": [
    "import torch\n",
    "\n",
    "idx = 2\n",
    "for line in file2:\n",
    "    line = clean_text(line)\n",
    "    inputs2 = tokenizer([line], max_length=100, truncation=True, padding='max_length', return_tensors='pt')\n",
    "    inputs2['labels'] = inputs2['input_ids']\n",
    "    inp_ids2 = []\n",
    "    for inp in inputs2.input_ids.numpy():\n",
    "        actual_tokens2 = list(set(range(100)) - \n",
    "                            set(np.where((inp == 101) | (inp == 102) | (inp == 0))[0].tolist()))\n",
    "        num_of_token_to_mask2 = int(len(actual_tokens2) * 0.15)\n",
    "        token_to_mask2 = np.random.choice(np.array(actual_tokens2), \n",
    "                                          size=num_of_token_to_mask2, \n",
    "                                          replace=False).tolist()\n",
    "        \n",
    "        for word in token_to_mask2:\n",
    "            inp[word] = 103\n",
    "        inp_ids2.append(inp)\n",
    "    inp_ids2 = torch.tensor(inp_ids2)\n",
    "    inputs2['input_ids'] = inp_ids2 \n",
    "\n",
    "    mask_loc = torch.where(inputs2['input_ids'][0] == 103)[0].tolist()\n",
    "    out = predict(model, inputs2['input_ids'])\n",
    "\n",
    "    predicted_tokens = out[mask_loc]\n",
    "\n",
    "    outputt = tokenizer.decode(predicted_tokens)\n",
    "    outputt = list(outputt.split())\n",
    "    for i in range(0, len(token_to_mask2)-len(outputt)):\n",
    "        token_to_mask2.pop()\n",
    "    masking_pattern = \"\"\n",
    "    for i in range(0, 100):\n",
    "        masking_pattern += \"0\"\n",
    "    listt = list(masking_pattern)\n",
    "    for word in token_to_mask2:\n",
    "        listt[word]='1'\n",
    "    masking_pattern = ''.join(listt)\n",
    "    print(f\"masking pattern: {masking_pattern}\")\n",
    "    # add outputt to excel file\n",
    "    splitted_line = line.split()\n",
    "    splitted_line2 = line.split()\n",
    "    idxxx=0\n",
    "    idxoo=0\n",
    "    for ch in masking_pattern:\n",
    "        if ch=='1':\n",
    "            splitted_line[idxxx]=\"[MASK]\"\n",
    "            splitted_line2[idxxx]=outputt[idxoo]\n",
    "            idxoo+=1\n",
    "        idxxx+=1\n",
    "    new_line = \"\"\n",
    "    for word in splitted_line:\n",
    "        new_line += word\n",
    "        new_line += \" \"\n",
    "    new_line2 = \"\"\n",
    "    for word in splitted_line2:\n",
    "        new_line2 += word\n",
    "        new_line2 += \" \"\n",
    "    print(f\"input sentence: {line}\")\n",
    "    print(f\"masked sentence: {new_line}\")\n",
    "    print(f\"reconstructed sentence: {new_line2}\")\n",
    "    col1 = f\"A{idx}\"\n",
    "    col2 = f\"B{idx}\"\n",
    "    col3 = f\"C{idx}\"\n",
    "    col4 = f\"D{idx}\"\n",
    "    wb_append = load_workbook(excel_file)\n",
    "    sheet = wb_append.active\n",
    "    sheet[col1] = line\n",
    "    sheet[col2] = masking_pattern\n",
    "    sheet[col3] = new_line\n",
    "    sheet[col4] = new_line2\n",
    "    #Save the operation\n",
    "    wb_append.save(excel_file)\n",
    "    idx+=1\n"
   ]
  }
 ],
 "metadata": {
  "kernelspec": {
   "display_name": "venv",
   "language": "python",
   "name": "python3"
  },
  "language_info": {
   "codemirror_mode": {
    "name": "ipython",
    "version": 3
   },
   "file_extension": ".py",
   "mimetype": "text/x-python",
   "name": "python",
   "nbconvert_exporter": "python",
   "pygments_lexer": "ipython3",
   "version": "3.9.19"
  }
 },
 "nbformat": 4,
 "nbformat_minor": 2
}
